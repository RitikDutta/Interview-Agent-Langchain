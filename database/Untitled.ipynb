{
 "cells": [
  {
   "cell_type": "code",
   "execution_count": 8,
   "id": "e8d2de91",
   "metadata": {},
   "outputs": [],
   "source": [
    "from firestoreCRUD import FirestoreCRUD"
   ]
  },
  {
   "cell_type": "code",
   "execution_count": 12,
   "id": "94042b60",
   "metadata": {},
   "outputs": [],
   "source": [
    "import firebase_admin\n",
    "from firebase_admin import credentials, firestore\n"
   ]
  },
  {
   "cell_type": "code",
   "execution_count": 9,
   "id": "be6799af",
   "metadata": {},
   "outputs": [],
   "source": [
    "class UserManager:\n",
    "    def __init__(self, firestore_crud):\n",
    "        self.firestore_crud = firestore_crud\n",
    "\n",
    "    def initialize_user(self, user_id):\n",
    "        user_data = self.firestore_crud.read_document(user_id)\n",
    "        if not user_data:\n",
    "            # User does not exist, so create new user\n",
    "            details = {'name': 'Test Name', 'email': 'test@example.com'}\n",
    "            performance = {}  # Initialize performance data, if any\n",
    "            user_data = {'details': details, 'performance': performance}\n",
    "            self.firestore_crud.create_document(user_id, user_data)\n"
   ]
  },
  {
   "cell_type": "code",
   "execution_count": 10,
   "id": "4fd21943",
   "metadata": {},
   "outputs": [],
   "source": [
    "credential_path = '/home/codered/mystuff/progs/interview-mentor-firebase-adminsdk-sguq7-aee5c6cca8.json'\n",
    "collection_name = 'users'\n"
   ]
  },
  {
   "cell_type": "code",
   "execution_count": 13,
   "id": "4f05e1e2",
   "metadata": {},
   "outputs": [],
   "source": [
    "cred = credentials.Certificate(credential_path)\n",
    "firebase_admin.initialize_app(cred)\n",
    "firestore_crud = FirestoreCRUD(credential_path, collection_name)\n"
   ]
  },
  {
   "cell_type": "code",
   "execution_count": 15,
   "id": "4c161cd9",
   "metadata": {},
   "outputs": [],
   "source": [
    "user_manager = UserManager(firestore_crud)\n"
   ]
  },
  {
   "cell_type": "code",
   "execution_count": 16,
   "id": "a0216701",
   "metadata": {},
   "outputs": [],
   "source": [
    "user_id = 'unique_user_id'\n",
    "user_manager.initialize_user(user_id)\n"
   ]
  },
  {
   "cell_type": "code",
   "execution_count": 21,
   "id": "15f0e373",
   "metadata": {},
   "outputs": [],
   "source": [
    "user_manager.initialize_user(\"2\")"
   ]
  },
  {
   "cell_type": "code",
   "execution_count": 23,
   "id": "e588910c",
   "metadata": {},
   "outputs": [
    {
     "data": {
      "text/plain": [
       "{'performance': {},\n",
       " 'details': {'email': 'test@example.com', 'name': 'Test Name'}}"
      ]
     },
     "execution_count": 23,
     "metadata": {},
     "output_type": "execute_result"
    }
   ],
   "source": [
    "firestore_crud.read_document(\"1\")"
   ]
  },
  {
   "cell_type": "code",
   "execution_count": null,
   "id": "0f4a941b",
   "metadata": {},
   "outputs": [],
   "source": []
  }
 ],
 "metadata": {
  "kernelspec": {
   "display_name": "Python 3 (ipykernel)",
   "language": "python",
   "name": "python3"
  },
  "language_info": {
   "codemirror_mode": {
    "name": "ipython",
    "version": 3
   },
   "file_extension": ".py",
   "mimetype": "text/x-python",
   "name": "python",
   "nbconvert_exporter": "python",
   "pygments_lexer": "ipython3",
   "version": "3.10.12"
  }
 },
 "nbformat": 4,
 "nbformat_minor": 5
}
